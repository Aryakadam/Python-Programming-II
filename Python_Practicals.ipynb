{
  "nbformat": 4,
  "nbformat_minor": 0,
  "metadata": {
    "colab": {
      "provenance": []
    },
    "kernelspec": {
      "name": "python3",
      "display_name": "Python 3"
    },
    "language_info": {
      "name": "python"
    }
  },
  "cells": [
    {
      "cell_type": "code",
      "execution_count": null,
      "metadata": {
        "id": "pc7Rz4cFAit2"
      },
      "outputs": [],
      "source": [
        "#Upload a image from downloads, print type format, mode, shape of the image. Show\n",
        "#the image with colormap. Convert image into Negative and Gray. Show all images\n",
        "#using subplot. import all required libraries.\n",
        "\n",
        "# We need cv2 module for image\n",
        "# reading and matplotlib module\n",
        "# for plotting\n",
        "import cv2\n",
        "import matplotlib.pyplot as plt\n",
        "\n",
        "img_bgr = cv2.imread('scenary.jpg', 1)\n",
        "\n",
        "color = ('b', 'g', 'r')\n",
        "\n",
        "for i, col in enumerate(color):\n",
        "\thistr = cv2.calcHist([img_bgr], [i], None, [256], [0, 256])\n",
        "\tplt.plot(histr, color = col)\n",
        "\tplt.xlim([0, 256])\n",
        "\t\n",
        "plt.show()\n",
        "\n"
      ]
    },
    {
      "cell_type": "code",
      "source": [
        "#Convert image into Negative and Gray\n",
        "import cv2\n",
        "import matplotlib.pyplot as plt\n",
        "\n",
        "\n",
        "# Read an image\n",
        "img_bgr = cv2.imread('scenary.jpg', 1)\n",
        "plt.imshow(img_bgr)\n",
        "plt.show()\n",
        "\n",
        "# Histogram plotting of the image\n",
        "color = ('b', 'g', 'r')\n",
        "\n",
        "for i, col in enumerate(color):\n",
        "\t\n",
        "\thistr = cv2.calcHist([img_bgr],\n",
        "\t\t\t\t\t\t[i], None,\n",
        "\t\t\t\t\t\t[256],\n",
        "\t\t\t\t\t\t[0, 256])\n",
        "\t\n",
        "\tplt.plot(histr, color = col)\n",
        "\t\n",
        "\t# Limit X - axis to 256\n",
        "\tplt.xlim([0, 256])\n",
        "\t\n",
        "plt.show()\n",
        "\n",
        "# get height and width of the image\n",
        "height, width, _ = img_bgr.shape\n",
        "\n",
        "for i in range(0, height - 1):\n",
        "\tfor j in range(0, width - 1):\n",
        "\t\t\n",
        "\t\t# Get the pixel value\n",
        "\t\tpixel = img_bgr[i, j]\n",
        "\t\t\n",
        "\t\t# Negate each channel by\n",
        "\t\t# subtracting it from 255\n",
        "\t\t\n",
        "\t\t# 1st index contains red pixel\n",
        "\t\tpixel[0] = 255 - pixel[0]\n",
        "\t\t\n",
        "\t\t# 2nd index contains green pixel\n",
        "\t\tpixel[1] = 255 - pixel[1]\n",
        "\t\t\n",
        "\t\t# 3rd index contains blue pixel\n",
        "\t\tpixel[2] = 255 - pixel[2]\n",
        "\t\t\n",
        "\t\t# Store new values in the pixel\n",
        "\t\timg_bgr[i, j] = pixel\n",
        "\n",
        "# Display the negative transformed image\n",
        "plt.imshow(img_bgr)\n",
        "plt.show()\n",
        "\n",
        "# Histogram plotting of the\n",
        "# negative transformed image\n",
        "color = ('b', 'g', 'r')\n",
        "\n",
        "for i, col in enumerate(color):\n",
        "\t\n",
        "\thistr = cv2.calcHist([img_bgr],\n",
        "\t\t\t\t\t\t[i], None,\n",
        "\t\t\t\t\t\t[256],\n",
        "\t\t\t\t\t\t[0, 256])\n",
        "\t\n",
        "\tplt.plot(histr, color = col)\n",
        "\tplt.xlim([0, 256])\n",
        "\t\n",
        "plt.show()\n"
      ],
      "metadata": {
        "id": "9JngA6mPCh1R"
      },
      "execution_count": null,
      "outputs": []
    },
    {
      "cell_type": "code",
      "source": [
        "#Read and display excel file Dress Sales.xlsx. Show head and tail of file. Display one\n",
        "#specific column and all the columns. Use describe, dtypes, isnull, loc, iloc, dropna,\n",
        "#fillna, groupby on given file to manipulate the data\n",
        "Assignment no.5"
      ],
      "metadata": {
        "id": "1_RcVoTgDQmL"
      },
      "execution_count": null,
      "outputs": []
    },
    {
      "cell_type": "code",
      "source": [
        "'''data = {'name' : ['Sudh', 'Krish','Nitesh','Tulesco'],\n",
        " 'salary': [100, 200, 300, 400],\n",
        "'email': ['spatil@mes.ac.in', 'krish@mes.ac.in', 'nitesh@m\n",
        "es.ac.in','tilesco@mes.ac.in'],\n",
        " 'addr': ['wer', 'ert', 'ert', 'weew']} prepare a table using keys and values. Use cancat\n",
        "and merge to add more dataframes to add data vertically nad horizontally.'''\n",
        "\n",
        "import pandas as pd\n",
        "data = pd.DataFrame({\n",
        "\"name\": [\"Sudh\",\"Krish\",\"Nitesh\",\"Tulesco\"],\n",
        "\"salary\" : [100,200,300,400],\n",
        "\"email\" : [\"spatil@mes.ac.in\",\"krish@mes.ac.in\",\"nitesh@mes.ac.in\",\"tilesco@mes.ac.in\"],\n",
        "\"addr\": [\"wer\",\"ert\",\"ert\",\"weew\"]\n",
        "})\n",
        "data"
      ],
      "metadata": {
        "colab": {
          "base_uri": "https://localhost:8080/",
          "height": 175
        },
        "id": "YqxG4LxfEd0O",
        "outputId": "ac4d5164-0c06-4dc6-8fcb-8a84ba4a1d5d"
      },
      "execution_count": 1,
      "outputs": [
        {
          "output_type": "execute_result",
          "data": {
            "text/plain": [
              "      name  salary              email  addr\n",
              "0     Sudh     100   spatil@mes.ac.in   wer\n",
              "1    Krish     200    krish@mes.ac.in   ert\n",
              "2   Nitesh     300   nitesh@mes.ac.in   ert\n",
              "3  Tulesco     400  tilesco@mes.ac.in  weew"
            ],
            "text/html": [
              "\n",
              "  <div id=\"df-1608d407-71b9-4d60-b3e7-2ae564d0dea7\">\n",
              "    <div class=\"colab-df-container\">\n",
              "      <div>\n",
              "<style scoped>\n",
              "    .dataframe tbody tr th:only-of-type {\n",
              "        vertical-align: middle;\n",
              "    }\n",
              "\n",
              "    .dataframe tbody tr th {\n",
              "        vertical-align: top;\n",
              "    }\n",
              "\n",
              "    .dataframe thead th {\n",
              "        text-align: right;\n",
              "    }\n",
              "</style>\n",
              "<table border=\"1\" class=\"dataframe\">\n",
              "  <thead>\n",
              "    <tr style=\"text-align: right;\">\n",
              "      <th></th>\n",
              "      <th>name</th>\n",
              "      <th>salary</th>\n",
              "      <th>email</th>\n",
              "      <th>addr</th>\n",
              "    </tr>\n",
              "  </thead>\n",
              "  <tbody>\n",
              "    <tr>\n",
              "      <th>0</th>\n",
              "      <td>Sudh</td>\n",
              "      <td>100</td>\n",
              "      <td>spatil@mes.ac.in</td>\n",
              "      <td>wer</td>\n",
              "    </tr>\n",
              "    <tr>\n",
              "      <th>1</th>\n",
              "      <td>Krish</td>\n",
              "      <td>200</td>\n",
              "      <td>krish@mes.ac.in</td>\n",
              "      <td>ert</td>\n",
              "    </tr>\n",
              "    <tr>\n",
              "      <th>2</th>\n",
              "      <td>Nitesh</td>\n",
              "      <td>300</td>\n",
              "      <td>nitesh@mes.ac.in</td>\n",
              "      <td>ert</td>\n",
              "    </tr>\n",
              "    <tr>\n",
              "      <th>3</th>\n",
              "      <td>Tulesco</td>\n",
              "      <td>400</td>\n",
              "      <td>tilesco@mes.ac.in</td>\n",
              "      <td>weew</td>\n",
              "    </tr>\n",
              "  </tbody>\n",
              "</table>\n",
              "</div>\n",
              "      <button class=\"colab-df-convert\" onclick=\"convertToInteractive('df-1608d407-71b9-4d60-b3e7-2ae564d0dea7')\"\n",
              "              title=\"Convert this dataframe to an interactive table.\"\n",
              "              style=\"display:none;\">\n",
              "        \n",
              "  <svg xmlns=\"http://www.w3.org/2000/svg\" height=\"24px\"viewBox=\"0 0 24 24\"\n",
              "       width=\"24px\">\n",
              "    <path d=\"M0 0h24v24H0V0z\" fill=\"none\"/>\n",
              "    <path d=\"M18.56 5.44l.94 2.06.94-2.06 2.06-.94-2.06-.94-.94-2.06-.94 2.06-2.06.94zm-11 1L8.5 8.5l.94-2.06 2.06-.94-2.06-.94L8.5 2.5l-.94 2.06-2.06.94zm10 10l.94 2.06.94-2.06 2.06-.94-2.06-.94-.94-2.06-.94 2.06-2.06.94z\"/><path d=\"M17.41 7.96l-1.37-1.37c-.4-.4-.92-.59-1.43-.59-.52 0-1.04.2-1.43.59L10.3 9.45l-7.72 7.72c-.78.78-.78 2.05 0 2.83L4 21.41c.39.39.9.59 1.41.59.51 0 1.02-.2 1.41-.59l7.78-7.78 2.81-2.81c.8-.78.8-2.07 0-2.86zM5.41 20L4 18.59l7.72-7.72 1.47 1.35L5.41 20z\"/>\n",
              "  </svg>\n",
              "      </button>\n",
              "      \n",
              "  <style>\n",
              "    .colab-df-container {\n",
              "      display:flex;\n",
              "      flex-wrap:wrap;\n",
              "      gap: 12px;\n",
              "    }\n",
              "\n",
              "    .colab-df-convert {\n",
              "      background-color: #E8F0FE;\n",
              "      border: none;\n",
              "      border-radius: 50%;\n",
              "      cursor: pointer;\n",
              "      display: none;\n",
              "      fill: #1967D2;\n",
              "      height: 32px;\n",
              "      padding: 0 0 0 0;\n",
              "      width: 32px;\n",
              "    }\n",
              "\n",
              "    .colab-df-convert:hover {\n",
              "      background-color: #E2EBFA;\n",
              "      box-shadow: 0px 1px 2px rgba(60, 64, 67, 0.3), 0px 1px 3px 1px rgba(60, 64, 67, 0.15);\n",
              "      fill: #174EA6;\n",
              "    }\n",
              "\n",
              "    [theme=dark] .colab-df-convert {\n",
              "      background-color: #3B4455;\n",
              "      fill: #D2E3FC;\n",
              "    }\n",
              "\n",
              "    [theme=dark] .colab-df-convert:hover {\n",
              "      background-color: #434B5C;\n",
              "      box-shadow: 0px 1px 3px 1px rgba(0, 0, 0, 0.15);\n",
              "      filter: drop-shadow(0px 1px 2px rgba(0, 0, 0, 0.3));\n",
              "      fill: #FFFFFF;\n",
              "    }\n",
              "  </style>\n",
              "\n",
              "      <script>\n",
              "        const buttonEl =\n",
              "          document.querySelector('#df-1608d407-71b9-4d60-b3e7-2ae564d0dea7 button.colab-df-convert');\n",
              "        buttonEl.style.display =\n",
              "          google.colab.kernel.accessAllowed ? 'block' : 'none';\n",
              "\n",
              "        async function convertToInteractive(key) {\n",
              "          const element = document.querySelector('#df-1608d407-71b9-4d60-b3e7-2ae564d0dea7');\n",
              "          const dataTable =\n",
              "            await google.colab.kernel.invokeFunction('convertToInteractive',\n",
              "                                                     [key], {});\n",
              "          if (!dataTable) return;\n",
              "\n",
              "          const docLinkHtml = 'Like what you see? Visit the ' +\n",
              "            '<a target=\"_blank\" href=https://colab.research.google.com/notebooks/data_table.ipynb>data table notebook</a>'\n",
              "            + ' to learn more about interactive tables.';\n",
              "          element.innerHTML = '';\n",
              "          dataTable['output_type'] = 'display_data';\n",
              "          await google.colab.output.renderOutput(dataTable, element);\n",
              "          const docLink = document.createElement('div');\n",
              "          docLink.innerHTML = docLinkHtml;\n",
              "          element.appendChild(docLink);\n",
              "        }\n",
              "      </script>\n",
              "    </div>\n",
              "  </div>\n",
              "  "
            ]
          },
          "metadata": {},
          "execution_count": 1
        }
      ]
    },
    {
      "cell_type": "code",
      "source": [
        "'''data9 = {'emp_id':[101,102,103,104],\n",
        " 'salary':[12,45,53,45],\n",
        " 'providentfund':[12312,3432,234,535]}\n",
        "data10 = {'emp_id': [101,102,104,103],\n",
        " 'mobile_no':[12321,3423,2432,2412],\n",
        " 'house_no':[12312,234,2344,123]}\n",
        "Prepare dataframes, use merge on emp_id to merge both dataframes. Also use concat\n",
        "to add more rows in the same table.'''\n",
        "\n",
        "import pandas as pd\n",
        "data9 = pd.DataFrame({\n",
        "\"emp_id\": [\"101\",\"102\",\"103\",\"104\"],\n",
        "\"salary\" : [12,45,53,45],\n",
        "\"providentfund\" : [12312,3432,234,535],\n",
        "})\n",
        "data9\n",
        "import pandas as pd\n",
        "data10 = pd.DataFrame({\n",
        "\"emp_id\": [\"101\",\"102\",\"104\",\"103\"],\n",
        "\"mobile_no\" : [12321,3423,2432,2412],\n",
        "\"house_no\" : [12312,234,2344,123],\n",
        "})\n",
        "data10\n",
        "df = pd.concat([data9,data10])\n",
        "df"
      ],
      "metadata": {
        "colab": {
          "base_uri": "https://localhost:8080/",
          "height": 300
        },
        "id": "ainxNaLnI5yG",
        "outputId": "d0eea6ba-8505-42da-d17e-854d3e0ea144"
      },
      "execution_count": 3,
      "outputs": [
        {
          "output_type": "execute_result",
          "data": {
            "text/plain": [
              "  emp_id  salary  providentfund  mobile_no  house_no\n",
              "0    101    12.0        12312.0        NaN       NaN\n",
              "1    102    45.0         3432.0        NaN       NaN\n",
              "2    103    53.0          234.0        NaN       NaN\n",
              "3    104    45.0          535.0        NaN       NaN\n",
              "0    101     NaN            NaN    12321.0   12312.0\n",
              "1    102     NaN            NaN     3423.0     234.0\n",
              "2    104     NaN            NaN     2432.0    2344.0\n",
              "3    103     NaN            NaN     2412.0     123.0"
            ],
            "text/html": [
              "\n",
              "  <div id=\"df-9d7a5f06-fdc2-41d1-bb44-8e05862378bd\">\n",
              "    <div class=\"colab-df-container\">\n",
              "      <div>\n",
              "<style scoped>\n",
              "    .dataframe tbody tr th:only-of-type {\n",
              "        vertical-align: middle;\n",
              "    }\n",
              "\n",
              "    .dataframe tbody tr th {\n",
              "        vertical-align: top;\n",
              "    }\n",
              "\n",
              "    .dataframe thead th {\n",
              "        text-align: right;\n",
              "    }\n",
              "</style>\n",
              "<table border=\"1\" class=\"dataframe\">\n",
              "  <thead>\n",
              "    <tr style=\"text-align: right;\">\n",
              "      <th></th>\n",
              "      <th>emp_id</th>\n",
              "      <th>salary</th>\n",
              "      <th>providentfund</th>\n",
              "      <th>mobile_no</th>\n",
              "      <th>house_no</th>\n",
              "    </tr>\n",
              "  </thead>\n",
              "  <tbody>\n",
              "    <tr>\n",
              "      <th>0</th>\n",
              "      <td>101</td>\n",
              "      <td>12.0</td>\n",
              "      <td>12312.0</td>\n",
              "      <td>NaN</td>\n",
              "      <td>NaN</td>\n",
              "    </tr>\n",
              "    <tr>\n",
              "      <th>1</th>\n",
              "      <td>102</td>\n",
              "      <td>45.0</td>\n",
              "      <td>3432.0</td>\n",
              "      <td>NaN</td>\n",
              "      <td>NaN</td>\n",
              "    </tr>\n",
              "    <tr>\n",
              "      <th>2</th>\n",
              "      <td>103</td>\n",
              "      <td>53.0</td>\n",
              "      <td>234.0</td>\n",
              "      <td>NaN</td>\n",
              "      <td>NaN</td>\n",
              "    </tr>\n",
              "    <tr>\n",
              "      <th>3</th>\n",
              "      <td>104</td>\n",
              "      <td>45.0</td>\n",
              "      <td>535.0</td>\n",
              "      <td>NaN</td>\n",
              "      <td>NaN</td>\n",
              "    </tr>\n",
              "    <tr>\n",
              "      <th>0</th>\n",
              "      <td>101</td>\n",
              "      <td>NaN</td>\n",
              "      <td>NaN</td>\n",
              "      <td>12321.0</td>\n",
              "      <td>12312.0</td>\n",
              "    </tr>\n",
              "    <tr>\n",
              "      <th>1</th>\n",
              "      <td>102</td>\n",
              "      <td>NaN</td>\n",
              "      <td>NaN</td>\n",
              "      <td>3423.0</td>\n",
              "      <td>234.0</td>\n",
              "    </tr>\n",
              "    <tr>\n",
              "      <th>2</th>\n",
              "      <td>104</td>\n",
              "      <td>NaN</td>\n",
              "      <td>NaN</td>\n",
              "      <td>2432.0</td>\n",
              "      <td>2344.0</td>\n",
              "    </tr>\n",
              "    <tr>\n",
              "      <th>3</th>\n",
              "      <td>103</td>\n",
              "      <td>NaN</td>\n",
              "      <td>NaN</td>\n",
              "      <td>2412.0</td>\n",
              "      <td>123.0</td>\n",
              "    </tr>\n",
              "  </tbody>\n",
              "</table>\n",
              "</div>\n",
              "      <button class=\"colab-df-convert\" onclick=\"convertToInteractive('df-9d7a5f06-fdc2-41d1-bb44-8e05862378bd')\"\n",
              "              title=\"Convert this dataframe to an interactive table.\"\n",
              "              style=\"display:none;\">\n",
              "        \n",
              "  <svg xmlns=\"http://www.w3.org/2000/svg\" height=\"24px\"viewBox=\"0 0 24 24\"\n",
              "       width=\"24px\">\n",
              "    <path d=\"M0 0h24v24H0V0z\" fill=\"none\"/>\n",
              "    <path d=\"M18.56 5.44l.94 2.06.94-2.06 2.06-.94-2.06-.94-.94-2.06-.94 2.06-2.06.94zm-11 1L8.5 8.5l.94-2.06 2.06-.94-2.06-.94L8.5 2.5l-.94 2.06-2.06.94zm10 10l.94 2.06.94-2.06 2.06-.94-2.06-.94-.94-2.06-.94 2.06-2.06.94z\"/><path d=\"M17.41 7.96l-1.37-1.37c-.4-.4-.92-.59-1.43-.59-.52 0-1.04.2-1.43.59L10.3 9.45l-7.72 7.72c-.78.78-.78 2.05 0 2.83L4 21.41c.39.39.9.59 1.41.59.51 0 1.02-.2 1.41-.59l7.78-7.78 2.81-2.81c.8-.78.8-2.07 0-2.86zM5.41 20L4 18.59l7.72-7.72 1.47 1.35L5.41 20z\"/>\n",
              "  </svg>\n",
              "      </button>\n",
              "      \n",
              "  <style>\n",
              "    .colab-df-container {\n",
              "      display:flex;\n",
              "      flex-wrap:wrap;\n",
              "      gap: 12px;\n",
              "    }\n",
              "\n",
              "    .colab-df-convert {\n",
              "      background-color: #E8F0FE;\n",
              "      border: none;\n",
              "      border-radius: 50%;\n",
              "      cursor: pointer;\n",
              "      display: none;\n",
              "      fill: #1967D2;\n",
              "      height: 32px;\n",
              "      padding: 0 0 0 0;\n",
              "      width: 32px;\n",
              "    }\n",
              "\n",
              "    .colab-df-convert:hover {\n",
              "      background-color: #E2EBFA;\n",
              "      box-shadow: 0px 1px 2px rgba(60, 64, 67, 0.3), 0px 1px 3px 1px rgba(60, 64, 67, 0.15);\n",
              "      fill: #174EA6;\n",
              "    }\n",
              "\n",
              "    [theme=dark] .colab-df-convert {\n",
              "      background-color: #3B4455;\n",
              "      fill: #D2E3FC;\n",
              "    }\n",
              "\n",
              "    [theme=dark] .colab-df-convert:hover {\n",
              "      background-color: #434B5C;\n",
              "      box-shadow: 0px 1px 3px 1px rgba(0, 0, 0, 0.15);\n",
              "      filter: drop-shadow(0px 1px 2px rgba(0, 0, 0, 0.3));\n",
              "      fill: #FFFFFF;\n",
              "    }\n",
              "  </style>\n",
              "\n",
              "      <script>\n",
              "        const buttonEl =\n",
              "          document.querySelector('#df-9d7a5f06-fdc2-41d1-bb44-8e05862378bd button.colab-df-convert');\n",
              "        buttonEl.style.display =\n",
              "          google.colab.kernel.accessAllowed ? 'block' : 'none';\n",
              "\n",
              "        async function convertToInteractive(key) {\n",
              "          const element = document.querySelector('#df-9d7a5f06-fdc2-41d1-bb44-8e05862378bd');\n",
              "          const dataTable =\n",
              "            await google.colab.kernel.invokeFunction('convertToInteractive',\n",
              "                                                     [key], {});\n",
              "          if (!dataTable) return;\n",
              "\n",
              "          const docLinkHtml = 'Like what you see? Visit the ' +\n",
              "            '<a target=\"_blank\" href=https://colab.research.google.com/notebooks/data_table.ipynb>data table notebook</a>'\n",
              "            + ' to learn more about interactive tables.';\n",
              "          element.innerHTML = '';\n",
              "          dataTable['output_type'] = 'display_data';\n",
              "          await google.colab.output.renderOutput(dataTable, element);\n",
              "          const docLink = document.createElement('div');\n",
              "          docLink.innerHTML = docLinkHtml;\n",
              "          element.appendChild(docLink);\n",
              "        }\n",
              "      </script>\n",
              "    </div>\n",
              "  </div>\n",
              "  "
            ]
          },
          "metadata": {},
          "execution_count": 3
        }
      ]
    },
    {
      "cell_type": "code",
      "source": [
        "'''Use linspace to produce data x and y. plot 3d of the data.'''\n",
        "# importing mplot3d toolkits, numpy and matplotlib\n",
        "from mpl_toolkits import mplot3d\n",
        "import numpy as np\n",
        "import matplotlib.pyplot as plt\n",
        "\n",
        "fig = plt.figure()\n",
        "\n",
        "# syntax for 3-D projection\n",
        "ax = plt.axes(projection ='3d')\n",
        "\n",
        "# defining all 3 axes\n",
        "z = np.linspace(0, 1, 100)\n",
        "x = z * np.sin(25 * z)\n",
        "y = z * np.cos(25 * z)\n",
        "\n",
        "# plotting\n",
        "ax.plot3D(x, y, z, 'green')\n",
        "ax.set_title('3D line plot geeks for geeks')\n",
        "plt.show()\n",
        "\n"
      ],
      "metadata": {
        "colab": {
          "base_uri": "https://localhost:8080/",
          "height": 248
        },
        "id": "rBdnviGvMKFB",
        "outputId": "aa602b46-ea7a-47bc-a90b-396430264990"
      },
      "execution_count": 5,
      "outputs": [
        {
          "output_type": "display_data",
          "data": {
            "text/plain": [
              "<Figure size 432x288 with 1 Axes>"
            ],
            "image/png": "[encoded data removed]"
          },
          "metadata": {
            "needs_background": "light"
          }
        }
      ]
    },
    {
      "cell_type": "code",
      "source": [
        "'''Create a Bus child class that inherits from the Vehicle class. The default fare charge\n",
        "of any vehicle is seating capacity * 50. If Vehicle is Bus instance, we need to add an\n",
        "extra 10% on full fare as a maintenance charge. So total fare for bus instance will\n",
        "become the final amount = total fare + 10% of the total fare.'''\n",
        "\n",
        "class Vehicle:\n",
        "    def __init__(self, name, mileage, capacity):\n",
        "        self.name = name\n",
        "        self.mileage = mileage\n",
        "        self.capacity = capacity\n",
        "\n",
        "    def fare(self):\n",
        "        return self.capacity * 100\n",
        "\n",
        "class Bus(Vehicle):\n",
        "    pass\n",
        "\n",
        "School_bus = Bus(\"School Volvo\", 12, 50)\n",
        "print(\"Total Bus fare is:\", School_bus.fare())"
      ],
      "metadata": {
        "colab": {
          "base_uri": "https://localhost:8080/",
          "height": 0
        },
        "id": "nwtMU9rWNSUO",
        "outputId": "dce9f259-8c50-4699-aa04-10ef788bad40"
      },
      "execution_count": 6,
      "outputs": [
        {
          "output_type": "stream",
          "name": "stdout",
          "text": [
            "Total Bus fare is: 5000\n"
          ]
        }
      ]
    },
    {
      "cell_type": "code",
      "source": [
        "'''Write a Python program to create a Vehicle class with max_speed and mileage\n",
        "instance attributes.'''\n",
        "class Vehicle:\n",
        "    def __init__(self, max_speed, mileage):\n",
        "        self.max_speed = max_speed\n",
        "        self.mileage = mileage\n",
        "\n",
        "modelX = Vehicle(240, 18)\n",
        "print(modelX.max_speed, modelX.mileage)"
      ],
      "metadata": {
        "colab": {
          "base_uri": "https://localhost:8080/",
          "height": 0
        },
        "id": "8JCCfg6VOT40",
        "outputId": "de5bc2b0-e017-4984-ea34-146782d26fea"
      },
      "execution_count": 16,
      "outputs": [
        {
          "output_type": "stream",
          "name": "stdout",
          "text": [
            "240 18\n"
          ]
        }
      ]
    },
    {
      "cell_type": "code",
      "source": [
        "'''Create a Vehicle class without any variables and methods'''\n",
        "class Vehicle:\n",
        "    pass\n"
      ],
      "metadata": {
        "id": "Jf9g7y3WPAsp"
      },
      "execution_count": 15,
      "outputs": []
    },
    {
      "cell_type": "code",
      "source": [
        "'''Create a child class Bus that will inherit all of the variables and methods of the\n",
        "Vehicle class. Create a Bus class that inherits from the Vehicle class. Give the\n",
        "capacity argument of Bus.seating_capacity() a default value of 50.'''\n",
        "\n",
        "class Vehicle:\n",
        "    def __init__(self, name, max_speed, mileage):\n",
        "        self.name = name\n",
        "        self.max_speed = max_speed\n",
        "        self.mileage = mileage\n",
        "\n",
        "    def seating_capacity(self, capacity):\n",
        "        return f\"The seating capacity of a {self.name} is {capacity} passengers\""
      ],
      "metadata": {
        "id": "SPWOBtQdOuv9"
      },
      "execution_count": 14,
      "outputs": []
    },
    {
      "cell_type": "code",
      "source": [
        "'''Create a function that takes a string as input and capitalizes a letter if its ASCII code\n",
        "is even and returns its lower case version if its ASCII code is odd'''\n",
        "\n",
        "# Python3 implementation of the above approach\n",
        "\n",
        "def check(ch):\n",
        "\n",
        "\tif (ch >= 'A' and ch <= 'Z'):\n",
        "\t\tprint(ch,\"is an UpperCase character\");\n",
        "\n",
        "\telif (ch >= 'a' and ch <= 'z'):\n",
        "\t\tprint(ch,\"is an LowerCase character\");\n",
        "\telse:\n",
        "\t\tprint(ch,\"is not an aplhabetic character\");\n",
        "\n",
        "# Driver Code\n",
        "\n",
        "# Get the character\n",
        "ch = 'A';\n",
        "\n",
        "# Check the character\n",
        "check(ch);\n",
        "\n",
        "# Get the character\n",
        "ch = 'a';\n",
        "\n",
        "# Check the character\n",
        "check(ch);\n",
        "\n",
        "# Get the character\n",
        "ch = '0';\n",
        "\n",
        "# Check the character\n",
        "check(ch);\n"
      ],
      "metadata": {
        "colab": {
          "base_uri": "https://localhost:8080/",
          "height": 0
        },
        "id": "bIz9CEXrPNEi",
        "outputId": "b754fb26-45ad-41fe-d82b-a1d54035d5c0"
      },
      "execution_count": 13,
      "outputs": [
        {
          "output_type": "stream",
          "name": "stdout",
          "text": [
            "A is an UpperCase character\n",
            "a is an LowerCase character\n",
            "0 is not an aplhabetic character\n"
          ]
        }
      ]
    },
    {
      "cell_type": "code",
      "source": [
        "'''Write a function that creates a dictionary with each (key, value) pair being the (lower\n",
        "case, upper case) versions of a letter, respectively.'''\n",
        "\n",
        "mylist = ['a', 'b', 'c']\n",
        "dict((i, i.upper()) for i in mylist)"
      ],
      "metadata": {
        "colab": {
          "base_uri": "https://localhost:8080/",
          "height": 0
        },
        "id": "yewvMwI7PmMt",
        "outputId": "db8bcb9a-7fcb-458e-86a2-306875e045a5"
      },
      "execution_count": 12,
      "outputs": [
        {
          "output_type": "execute_result",
          "data": {
            "text/plain": [
              "{'a': 'A', 'b': 'B', 'c': 'C'}"
            ]
          },
          "metadata": {},
          "execution_count": 12
        }
      ]
    },
    {
      "cell_type": "code",
      "source": [
        "'''Create a function that takes three integer arguments (a, b, c) and returns the amount of\n",
        "integers which are of equal value.'''\n",
        "\n",
        "def sum_three(x, y, z):\n",
        "    if x == y or y == z or x==z:\n",
        "        sum = 0\n",
        "    else:\n",
        "        sum = x + y + z\n",
        "    return sum\n",
        "print(sum_three(2, 1, 2))\n",
        "print(sum_three(3, 2, 2))\n",
        "print(sum_three(2, 2, 2))\n",
        "print(sum_three(1, 2, 3))"
      ],
      "metadata": {
        "colab": {
          "base_uri": "https://localhost:8080/",
          "height": 0
        },
        "id": "gMb8nGkkQj30",
        "outputId": "00057dca-7f70-473f-db0e-24cd92810221"
      },
      "execution_count": 11,
      "outputs": [
        {
          "output_type": "stream",
          "name": "stdout",
          "text": [
            "0\n",
            "0\n",
            "0\n",
            "6\n"
          ]
        }
      ]
    },
    {
      "cell_type": "code",
      "source": [
        "'''Create a function that takes a list of non-negative integers and strings and return a\n",
        "new list without the strings.'''\n",
        "\n",
        "l = [1,2,'a','b']\n",
        "\n",
        "def filter_list(l):\n",
        "    new_list = []\n",
        "    for x in l:\n",
        "        if type(x) == int:\n",
        "            new_list.append(x)\n",
        "    return new_list\n",
        "\n",
        "print(filter_list(l))"
      ],
      "metadata": {
        "colab": {
          "base_uri": "https://localhost:8080/",
          "height": 0
        },
        "id": "0DByaLbKQ3cA",
        "outputId": "afb75b10-97f2-4f20-e5e9-40ba9de35bae"
      },
      "execution_count": 10,
      "outputs": [
        {
          "output_type": "stream",
          "name": "stdout",
          "text": [
            "[1, 2]\n"
          ]
        }
      ]
    },
    {
      "cell_type": "code",
      "source": [
        "'''Write a function that calculates the factorial of a number recursively'''\n",
        "# Python 3 program to find\n",
        "# factorial of given number\n",
        "\n",
        "# Function to find factorial of given number\n",
        "def factorial(n):\n",
        "\t\n",
        "\tif n == 0:\n",
        "\t\treturn 1\n",
        "\t\n",
        "\treturn n * factorial(n-1)\n",
        "\n",
        "# Driver Code\n",
        "num = 5;\n",
        "print(\"Factorial of\", num, \"is\",\n",
        "factorial(num))\n"
      ],
      "metadata": {
        "colab": {
          "base_uri": "https://localhost:8080/",
          "height": 0
        },
        "id": "s33vRXieRKrL",
        "outputId": "cc732fc3-d870-4d36-fc0e-123c30f4e75c"
      },
      "execution_count": 9,
      "outputs": [
        {
          "output_type": "stream",
          "name": "stdout",
          "text": [
            "Factorial of 5 is 120\n"
          ]
        }
      ]
    },
    {
      "cell_type": "code",
      "source": [],
      "metadata": {
        "id": "pvXMywWQRbPF"
      },
      "execution_count": null,
      "outputs": []
    }
  ]
}